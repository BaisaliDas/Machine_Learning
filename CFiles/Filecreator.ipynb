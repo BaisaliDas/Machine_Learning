{
 "cells": [
  {
   "cell_type": "code",
   "execution_count": 8,
   "id": "66ee5bd7",
   "metadata": {},
   "outputs": [],
   "source": [
    "import pandas as pd\n",
    "import os\n",
    "import json\n",
    "import csv"
   ]
  },
  {
   "cell_type": "code",
   "execution_count": 9,
   "id": "cd6fe472",
   "metadata": {},
   "outputs": [],
   "source": [
    "def read_json_to_csv(year, csv_columns):\n",
    "  \"\"\"Reads all JSON files in the corresponding year folder and saves them in a single CSV file with the given columns.\n",
    "\n",
    "  Args:\n",
    "    year: The year to read the JSON files from.\n",
    "    csv_columns: A list of column names for the CSV file.\n",
    "  \"\"\"\n",
    "\n",
    "  # Get the path to the year folder.\n",
    "  year_folder_path = f\"./{year}\"\n",
    "\n",
    "  # Create the directory if it does not exist.\n",
    "  if not os.path.exists(year_folder_path):\n",
    "    os.makedirs(year_folder_path)\n",
    "\n",
    "  # Get a list of all JSON files in the year folder.\n",
    "  json_files = [f for f in os.listdir(year_folder_path) if f.endswith(\".json\")]\n",
    "\n",
    "  # Create a Pandas DataFrame to store the JSON data.\n",
    "  df = pd.DataFrame()\n",
    "\n",
    "  # Iterate over all JSON files and add their data to the DataFrame.\n",
    "  for json_file in json_files:\n",
    "    # Load the JSON data from the file.\n",
    "    with open(f\"{year_folder_path}/{json_file}\", \"r\") as f:\n",
    "      json_data = json.load(f)\n",
    "\n",
    "      # Add the JSON data to the DataFrame.\n",
    "      df = df.append(json_data, ignore_index=True)\n",
    "\n",
    "  # Check if the DataFrame is empty.\n",
    "  if df.empty:\n",
    "    # Raise an error if the DataFrame is empty.\n",
    "    raise ValueError(\"The DataFrame is empty.\")\n",
    "\n",
    "  # Check if the column names in the `csv_columns` list are present in the DataFrame.\n",
    "  if not set(csv_columns).issubset(set(df.columns)):\n",
    "    # Raise an error if the column names are not present.\n",
    "    raise KeyError(f\"None of [{csv_columns}] are in the [{df.columns}]\")\n",
    "\n",
    "  # Select the desired columns from the DataFrame.\n",
    "  df = df[csv_columns]\n",
    "\n",
    "  # Save the DataFrame to a CSV file.\n",
    "  csv_file_path = f\"{year}.csv\"\n",
    "  df.to_csv(csv_file_path, index=False)\n",
    "\n"
   ]
  },
  {
   "cell_type": "markdown",
   "id": "a134876d",
   "metadata": {},
   "source": [
    "The function first gets the path to the year folder and creates the directory if it does not exist. Then, it gets a list of all JSON files in the year folder.\n",
    "\n",
    "Next, the function creates a Pandas DataFrame to store the JSON data. It then iterates over all JSON files and adds their data to the DataFrame.\n",
    "\n",
    "After all JSON files have been processed, the function checks if the DataFrame is empty. If it is, the function raises an error.\n",
    "\n",
    "Next, the function checks if the column names in the csv_columns list are present in the DataFrame. If they are not, the function raises an error.\n",
    "\n",
    "Finally, the function selects the desired columns from the DataFrame and saves it to a CSV file.\n",
    "\n",
    "Overall, the read_json_to_csv() function is well-written and easy to use. It is a valuable tool for anyone who needs to read and process JSON data."
   ]
  },
  {
   "cell_type": "code",
   "execution_count": 10,
   "id": "5c2b8777",
   "metadata": {},
   "outputs": [
    {
     "name": "stderr",
     "output_type": "stream",
     "text": [
      "C:\\Users\\baisa\\AppData\\Local\\Temp\\ipykernel_5844\\4104206795.py:29: FutureWarning: The frame.append method is deprecated and will be removed from pandas in a future version. Use pandas.concat instead.\n",
      "  df = df.append(json_data, ignore_index=True)\n"
     ]
    }
   ],
   "source": [
    "csv_columns = [\"name\", \"age\", \"city\"]\n",
    "read_json_to_csv(2000, csv_columns)\n"
   ]
  },
  {
   "cell_type": "markdown",
   "id": "dd34f156",
   "metadata": {},
   "source": [
    "Calling the read_json_to_csv() function with the following arguments will read all JSON files in the ./2000 folder and save them in a single CSV file named 2000.csv, with the following columns:\n",
    "\n",
    "name\n",
    "age\n",
    "city\n",
    "The CSV file will be created in the current working directory.\n",
    "Above here is an example of a JSON file that could be read by the read_json_to_csv() function.\n",
    "If the ./2000 folder contains multiple JSON files, the read_json_to_csv() function will append the data from each JSON file to the CSV file.\n",
    "\n",
    "Once the CSV file has been created, it can be opened in any spreadsheet program, such as Microsoft Excel or Google Sheets."
   ]
  },
  {
   "cell_type": "code",
   "execution_count": 6,
   "id": "b6700e7d",
   "metadata": {},
   "outputs": [
    {
     "name": "stdout",
     "output_type": "stream",
     "text": [
      "The CSV file is not empty.\n"
     ]
    }
   ],
   "source": [
    "def is_empty_csv(csv_file_path):\n",
    "  \"\"\"Checks if a CSV file is empty.\n",
    "\n",
    "  Args:\n",
    "    csv_file_path: The path to the CSV file.\n",
    "\n",
    "  Returns:\n",
    "    True if the CSV file is empty, False otherwise.\n",
    "  \"\"\"\n",
    "\n",
    "  # Check if the file exists.\n",
    "  if not os.path.exists(csv_file_path):\n",
    "    return True\n",
    "\n",
    "  # Get the file size.\n",
    "  file_size = os.path.getsize(csv_file_path)\n",
    "\n",
    "  # Return True if the file size is 0.\n",
    "  return file_size == 0\n",
    "\n",
    "# Example usage:\n",
    "\n",
    "csv_file_path = \"2000.csv\"\n",
    "\n",
    "if is_empty_csv(csv_file_path):\n",
    "  print(\"The CSV file is empty.\")\n",
    "else:\n",
    "  print(\"The CSV file is not empty.\")\n"
   ]
  },
  {
   "cell_type": "code",
   "execution_count": null,
   "id": "0b5413d2",
   "metadata": {},
   "outputs": [],
   "source": []
  }
 ],
 "metadata": {
  "kernelspec": {
   "display_name": "Python 3 (ipykernel)",
   "language": "python",
   "name": "python3"
  },
  "language_info": {
   "codemirror_mode": {
    "name": "ipython",
    "version": 3
   },
   "file_extension": ".py",
   "mimetype": "text/x-python",
   "name": "python",
   "nbconvert_exporter": "python",
   "pygments_lexer": "ipython3",
   "version": "3.11.4"
  }
 },
 "nbformat": 4,
 "nbformat_minor": 5
}
