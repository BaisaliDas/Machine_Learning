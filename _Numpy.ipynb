{
 "cells": [
  {
   "cell_type": "code",
   "execution_count": 1,
   "metadata": {},
   "outputs": [],
   "source": [
    "import numpy as np"
   ]
  },
  {
   "cell_type": "code",
   "execution_count": 7,
   "metadata": {},
   "outputs": [
    {
     "data": {
      "text/plain": [
       "array([0, 1, 2, 3, 4, 5, 6, 7, 8, 9])"
      ]
     },
     "execution_count": 7,
     "metadata": {},
     "output_type": "execute_result"
    }
   ],
   "source": [
    "a = np.arange(10)\n",
    "a"
   ]
  },
  {
   "cell_type": "code",
   "execution_count": 3,
   "metadata": {},
   "outputs": [],
   "source": [
    "a2 = a[np.newaxis, :]"
   ]
  },
  {
   "cell_type": "code",
   "execution_count": 4,
   "metadata": {},
   "outputs": [
    {
     "data": {
      "text/plain": [
       "(1, 10)"
      ]
     },
     "execution_count": 4,
     "metadata": {},
     "output_type": "execute_result"
    }
   ],
   "source": [
    "a2.shape"
   ]
  },
  {
   "cell_type": "code",
   "execution_count": 8,
   "metadata": {},
   "outputs": [
    {
     "name": "stdout",
     "output_type": "stream",
     "text": [
      "0\n"
     ]
    }
   ],
   "source": [
    "print(a[0])"
   ]
  },
  {
   "cell_type": "code",
   "execution_count": 9,
   "metadata": {},
   "outputs": [
    {
     "data": {
      "text/plain": [
       "array([2, 4])"
      ]
     },
     "execution_count": 9,
     "metadata": {},
     "output_type": "execute_result"
    }
   ],
   "source": [
    "np.arange(2, 5, 2)"
   ]
  },
  {
   "cell_type": "code",
   "execution_count": null,
   "metadata": {},
   "outputs": [],
   "source": []
  },
  {
   "cell_type": "code",
   "execution_count": 2,
   "metadata": {},
   "outputs": [
    {
     "name": "stdout",
     "output_type": "stream",
     "text": [
      "9.84 s ± 632 ms per loop (mean ± std. dev. of 7 runs, 1 loop each)\n"
     ]
    }
   ],
   "source": [
    "B = np.random.rand(100000000)\n",
    "%timeit sum(B)"
   ]
  },
  {
   "cell_type": "code",
   "execution_count": 3,
   "metadata": {},
   "outputs": [
    {
     "name": "stdout",
     "output_type": "stream",
     "text": [
      "129 ms ± 857 µs per loop (mean ± std. dev. of 7 runs, 10 loops each)\n"
     ]
    }
   ],
   "source": [
    "%timeit np.sum(B)"
   ]
  },
  {
   "cell_type": "code",
   "execution_count": 4,
   "metadata": {},
   "outputs": [
    {
     "name": "stdout",
     "output_type": "stream",
     "text": [
      "14.5 s ± 220 ms per loop (mean ± std. dev. of 7 runs, 1 loop each)\n"
     ]
    }
   ],
   "source": [
    "%%timeit\n",
    "S=0\n",
    "for x in B:\n",
    "    S+=x"
   ]
  },
  {
   "cell_type": "code",
   "execution_count": 5,
   "metadata": {},
   "outputs": [
    {
     "data": {
      "text/plain": [
       "array([[10, 13, 19, 18],\n",
       "       [19, 12, 18, 10],\n",
       "       [10, 13, 10, 14],\n",
       "       [13, 12, 11, 14],\n",
       "       [16, 14, 18, 14],\n",
       "       [14, 14, 17, 13],\n",
       "       [19, 16, 19, 21]])"
      ]
     },
     "execution_count": 5,
     "metadata": {},
     "output_type": "execute_result"
    }
   ],
   "source": [
    "#1. Create a numpy array with the number of elements equals your age. The value of array elements is a random number between 10 to your age\n",
    "age=np.random.randint(10,22,size=(7,4))\n",
    "age"
   ]
  },
  {
   "cell_type": "code",
   "execution_count": 6,
   "metadata": {},
   "outputs": [
    {
     "name": "stdout",
     "output_type": "stream",
     "text": [
      "age 28\n"
     ]
    }
   ],
   "source": [
    "print(\"age\",age.size)"
   ]
  },
  {
   "cell_type": "code",
   "execution_count": 7,
   "metadata": {},
   "outputs": [
    {
     "data": {
      "text/plain": [
       "array([ 1,  2,  3,  4,  5,  6,  7,  8,  9, 10, 11, 12, 13, 14, 15, 16, 17,\n",
       "       18, 19, 20, 21, 22, 23, 24, 25, 26, 27, 28, 29, 30, 31, 32, 33, 34,\n",
       "       35, 36, 37, 38, 39, 40, 41, 42, 43, 44, 45, 46, 47, 48, 49])"
      ]
     },
     "execution_count": 7,
     "metadata": {},
     "output_type": "execute_result"
    }
   ],
   "source": [
    "#2. Create a numpy array between 1 to 50 with the span(space) of 2 and print the length of the array\n",
    "x=np.arange(1,50)\n",
    "x"
   ]
  },
  {
   "cell_type": "code",
   "execution_count": 8,
   "metadata": {},
   "outputs": [
    {
     "data": {
      "text/plain": [
       "array([4.        , 4.11538462, 4.23076923, 4.34615385, 4.46153846,\n",
       "       4.57692308, 4.69230769, 4.80769231, 4.92307692, 5.03846154,\n",
       "       5.15384615, 5.26923077, 5.38461538, 5.5       , 5.61538462,\n",
       "       5.73076923, 5.84615385, 5.96153846, 6.07692308, 6.19230769,\n",
       "       6.30769231, 6.42307692, 6.53846154, 6.65384615, 6.76923077,\n",
       "       6.88461538, 7.        ])"
      ]
     },
     "execution_count": 8,
     "metadata": {},
     "output_type": "execute_result"
    }
   ],
   "source": [
    "#3. Create an equally spaced numpy array with 27 elements between 4 and 7\n",
    "import numpy as np\n",
    "s=np.linspace(4,7,27)\n",
    "s"
   ]
  },
  {
   "cell_type": "code",
   "execution_count": 9,
   "metadata": {},
   "outputs": [
    {
     "name": "stdout",
     "output_type": "stream",
     "text": [
      "length: 27\n"
     ]
    }
   ],
   "source": [
    "print(\"length:\",len(s))"
   ]
  },
  {
   "cell_type": "code",
   "execution_count": 10,
   "metadata": {},
   "outputs": [
    {
     "data": {
      "text/plain": [
       "array([[0.16, 0.08, 0.47, 0.64],\n",
       "       [0.69, 0.08, 0.38, 0.05],\n",
       "       [0.59, 0.15, 0.39, 0.09],\n",
       "       [0.51, 0.67, 0.41, 0.4 ],\n",
       "       [0.63, 0.61, 0.01, 0.08]])"
      ]
     },
     "execution_count": 10,
     "metadata": {},
     "output_type": "execute_result"
    }
   ],
   "source": [
    "#4. Create a matrix of size (5 x 4) with random numbers and round off the each elements by only 2 fractional points.\n",
    "m=np.round(np.random.rand(5,4),2)\n",
    "m"
   ]
  },
  {
   "cell_type": "code",
   "execution_count": 11,
   "metadata": {},
   "outputs": [
    {
     "data": {
      "text/plain": [
       "array([[14, 10, 10, 13, 14],\n",
       "       [ 6,  6,  8, 13,  8],\n",
       "       [ 9, 13, 11,  6,  5],\n",
       "       [ 9,  8,  8,  5, 11],\n",
       "       [11,  9,  7,  5,  9]])"
      ]
     },
     "execution_count": 11,
     "metadata": {},
     "output_type": "execute_result"
    }
   ],
   "source": [
    "#5. Create a matrix of size (5 x 4) with random numbers and round off the each elements by only 2 fractional points.\n",
    "m1=np.random.randint(5,15,size=(5,5))\n",
    "m1"
   ]
  },
  {
   "cell_type": "code",
   "execution_count": 12,
   "metadata": {},
   "outputs": [
    {
     "data": {
      "text/plain": [
       "array([0, 0, 0, 0, 0, 0, 0])"
      ]
     },
     "execution_count": 12,
     "metadata": {},
     "output_type": "execute_result"
    }
   ],
   "source": [
    "#6. Create the one dimensional array of zeros of random length below 20 with the data type int32\n",
    "#import numpy as np\n",
    "m2=np.zeros(np.random.randint(1,20),dtype='int32')\n",
    "m2"
   ]
  },
  {
   "cell_type": "code",
   "execution_count": 13,
   "metadata": {},
   "outputs": [
    {
     "data": {
      "text/plain": [
       "array([[ 0.,  1.,  2.,  3.,  4.],\n",
       "       [ 5.,  6.,  7.,  8.,  9.],\n",
       "       [10., 11., 12., 13., 14.],\n",
       "       [15., 16., 17., 18., 19.]], dtype=float32)"
      ]
     },
     "execution_count": 13,
     "metadata": {},
     "output_type": "execute_result"
    }
   ],
   "source": [
    "#7. Create a two dimensional array of ones of random row and column lengths with the data type of float32\n",
    "import numpy as np\n",
    "arr=np.arange(20,dtype='float32').reshape(4,5)\n",
    "arr"
   ]
  },
  {
   "cell_type": "code",
   "execution_count": 14,
   "metadata": {},
   "outputs": [
    {
     "data": {
      "text/plain": [
       "array([[1., 1., 1.],\n",
       "       [1., 1., 1.],\n",
       "       [1., 1., 1.],\n",
       "       [1., 1., 1.],\n",
       "       [1., 1., 1.]], dtype=float32)"
      ]
     },
     "execution_count": 14,
     "metadata": {},
     "output_type": "execute_result"
    }
   ],
   "source": [
    "sol1=np.ones((np.random.randint(1,20),np.random.randint(1,20)),dtype='float32')\n",
    "sol1"
   ]
  },
  {
   "cell_type": "code",
   "execution_count": 15,
   "metadata": {},
   "outputs": [
    {
     "name": "stdout",
     "output_type": "stream",
     "text": [
      "(5, 5)\n",
      "2\n",
      "int32\n",
      "[[ 9 25 50 34 45]\n",
      " [ 3 34 34 65  2]\n",
      " [ 5  7  3 76  3]\n",
      " [ 7  8  6 54  6]\n",
      " [23 12  8  5  8]]\n"
     ]
    }
   ],
   "source": [
    "#8. Create a matrix exactly as same as shown below and print its shape, type and dtype\n",
    "arr1=np.array([ [9,25,50,34,45],\n",
    "                [3,34,34,65,2],\n",
    "                [5,7,3,76,3],\n",
    "                [7,8,6,54,6],\n",
    "                [23,12,8,5,8]])\n",
    "print(np.shape(arr1))\n",
    "print(arr1.ndim)\n",
    "print(arr1.dtype)\n",
    "print(arr1)"
   ]
  },
  {
   "cell_type": "code",
   "execution_count": 16,
   "metadata": {},
   "outputs": [
    {
     "data": {
      "text/plain": [
       "array([[ 9, 34],\n",
       "       [ 3, 65],\n",
       "       [ 5, 76]])"
      ]
     },
     "execution_count": 16,
     "metadata": {},
     "output_type": "execute_result"
    }
   ],
   "source": [
    "arr1=np.array([ [9,25,50,34,45],\n",
    "                [3,34,34,65,2],\n",
    "                [5,7,3,76,3],\n",
    "                [7,8,6,54,6],\n",
    "                [23,12,8,5,8]])\n",
    "arr1[:3,::3]\n"
   ]
  },
  {
   "cell_type": "code",
   "execution_count": 16,
   "metadata": {},
   "outputs": [
    {
     "name": "stdout",
     "output_type": "stream",
     "text": [
      "Centre element is:  3\n"
     ]
    }
   ],
   "source": [
    "#9. Access the center pixel of the matrix defined in the question no 8 ( Don't enter the row and column index explicitely)\n",
    "print(\"Centre element is: \",arr1[2,2])"
   ]
  },
  {
   "cell_type": "code",
   "execution_count": 17,
   "metadata": {},
   "outputs": [
    {
     "name": "stdout",
     "output_type": "stream",
     "text": [
      "[ 5  7  3 76  3]\n"
     ]
    }
   ],
   "source": [
    "#10. Print the all the elements of 3rd row of the matrix\n",
    "print(arr1[2])"
   ]
  },
  {
   "cell_type": "code",
   "execution_count": 18,
   "metadata": {},
   "outputs": [
    {
     "name": "stdout",
     "output_type": "stream",
     "text": [
      "[34 65 76 54  5]\n"
     ]
    }
   ],
   "source": [
    "#11. Print the all the elements of 4th columns of the matrix\n",
    "print(arr1[:,3])"
   ]
  },
  {
   "cell_type": "code",
   "execution_count": 19,
   "metadata": {},
   "outputs": [
    {
     "data": {
      "text/plain": [
       "array([[ 9, 45],\n",
       "       [23,  8]])"
      ]
     },
     "execution_count": 19,
     "metadata": {},
     "output_type": "execute_result"
    }
   ],
   "source": [
    "#12. Print the 4 corner pixels of the matrix\n",
    "x1=arr1[[0,4],:]\n",
    "y1=x1[:,[0,4]]\n",
    "y1"
   ]
  },
  {
   "cell_type": "code",
   "execution_count": 20,
   "metadata": {},
   "outputs": [
    {
     "name": "stdout",
     "output_type": "stream",
     "text": [
      "[[50 34]\n",
      " [34 65]]\n",
      "[[ 7  8]\n",
      " [23 12]]\n",
      "[[ 3 76  3]\n",
      " [ 6 54  6]\n",
      " [ 8  5  8]]\n"
     ]
    }
   ],
   "source": [
    "#13. Create three matrix m1,m2,m3 with the elements grouped in the figure below\n",
    "import numpy as np\n",
    "m1=arr1[0:2,2:4]\n",
    "m3=arr1[2:5,2:5]\n",
    "m2=arr1[3:5,0:2]\n",
    "print(m1)\n",
    "print(m2)\n",
    "print(m3)"
   ]
  },
  {
   "cell_type": "code",
   "execution_count": 21,
   "metadata": {},
   "outputs": [
    {
     "name": "stdout",
     "output_type": "stream",
     "text": [
      "[[50 34 34 65]]\n",
      "[[ 7  8 23 12]]\n",
      "[[ 3 76  3  6 54  6  8  5  8]]\n"
     ]
    }
   ],
   "source": [
    "#14. Reshape all the three matrix segmented in the above task in to three 1-dimensional vector.\n",
    "\n",
    "n1=m1.reshape((1,4))\n",
    "print(n1)\n",
    "n2=m2.reshape((1,4))\n",
    "print(n2)\n",
    "n3=m3.reshape((1,9))\n",
    "print(n3)"
   ]
  },
  {
   "cell_type": "code",
   "execution_count": 22,
   "metadata": {},
   "outputs": [
    {
     "name": "stdout",
     "output_type": "stream",
     "text": [
      "Row wise: \n",
      " [[50 34]\n",
      " [34 65]\n",
      " [ 7  8]\n",
      " [23 12]]\n",
      "Column wise: \n",
      " [[50 34  7  8]\n",
      " [34 65 23 12]]\n"
     ]
    }
   ],
   "source": [
    "#15. Concatenate the matrix m1 and m2 in both vertical and horizontal direction\n",
    "import numpy as np\n",
    "print('Row wise: \\n',np.concatenate((m1,m2)))\n",
    "print('Column wise: \\n',np.concatenate((m1,m2),axis=1))"
   ]
  },
  {
   "cell_type": "code",
   "execution_count": 23,
   "metadata": {},
   "outputs": [
    {
     "name": "stdout",
     "output_type": "stream",
     "text": [
      "[[57 42]\n",
      " [57 77]]\n",
      "[[350 272]\n",
      " [782 780]]\n",
      "[[43 26]\n",
      " [11 53]]\n",
      "[[7.14285714 4.25      ]\n",
      " [1.47826087 5.41666667]]\n"
     ]
    }
   ],
   "source": [
    "#16. Add, Subtract, multiply, divide the matrixes m1 and m2\n",
    "add=m1+m2\n",
    "mul=m1*m2\n",
    "sub=m1-m2\n",
    "div=m1/m2\n",
    "print(add)\n",
    "print(mul)\n",
    "print(sub)\n",
    "print(div)"
   ]
  },
  {
   "cell_type": "code",
   "execution_count": 24,
   "metadata": {},
   "outputs": [
    {
     "name": "stdout",
     "output_type": "stream",
     "text": [
      "[[50 34]\n",
      " [34 65]]\n",
      "[[ 3 76  3]\n",
      " [ 6 54  6]\n",
      " [ 8  5  8]]\n"
     ]
    },
    {
     "data": {
      "text/plain": [
       "array([[56, 88],\n",
       "       [42, 70]])"
      ]
     },
     "execution_count": 24,
     "metadata": {},
     "output_type": "execute_result"
    }
   ],
   "source": [
    "#17. Add the m1 with m3 by removing the first row and last column of m3\n",
    "print(m1,m3,sep='\\n')\n",
    "new_m=m3[1:,:-1]\n",
    "new_m+m1"
   ]
  },
  {
   "cell_type": "code",
   "execution_count": 25,
   "metadata": {},
   "outputs": [
    {
     "name": "stdout",
     "output_type": "stream",
     "text": [
      "42.0 49.5\n",
      "[42.  49.5]\n",
      "[42.  49.5]\n"
     ]
    },
    {
     "data": {
      "text/plain": [
       "array([[50. , 34. ],\n",
       "       [34. , 65. ],\n",
       "       [42. , 49.5]])"
      ]
     },
     "execution_count": 25,
     "metadata": {},
     "output_type": "execute_result"
    }
   ],
   "source": [
    "#18.  Form the matrix m4 by concatenating (as a new row) the vector [me1, me2] with the matrix m1, where me1 and me2 are the mean values of each column on m1.\n",
    "new_m1=np.mean(m1[:,0])\n",
    "new_m2=np.mean(m1[:,1])\n",
    "print(new_m1,new_m2)\n",
    "new__m3=np.hstack([new_m1,new_m2])\n",
    "print(new__m3)\n",
    "new_var=np.mean(m1,axis=0)\n",
    "print(new_var)\n",
    "m4=np.vstack([m1,new_var])\n",
    "m4"
   ]
  },
  {
   "cell_type": "code",
   "execution_count": 26,
   "metadata": {},
   "outputs": [
    {
     "data": {
      "text/plain": [
       "array([[2860. , 5190.5],\n",
       "       [2388. , 4011. ],\n",
       "       [ 906. ,  993. ]])"
      ]
     },
     "execution_count": 26,
     "metadata": {},
     "output_type": "execute_result"
    }
   ],
   "source": [
    "#19. Perform the matrix multiplication between m3 and m4\n",
    "m5=np.dot(m3,m4)\n",
    "m5"
   ]
  },
  {
   "cell_type": "code",
   "execution_count": 27,
   "metadata": {},
   "outputs": [
    {
     "name": "stdout",
     "output_type": "stream",
     "text": [
      "9.4\n",
      "76\n",
      "50.239999999999995\n",
      "820.1600000000001\n",
      "7.08801805866774\n",
      "28.63843571147\n"
     ]
    }
   ],
   "source": [
    "#20. Compute the maximum and minimum value of mean, variance, standard deviation for each row of matrix created in question number 8.\n",
    "print(min(np.mean(arr1, axis=0)))\n",
    "print(max(np.max(arr1,axis=1)))\n",
    "print(min(np.var(arr1,axis=0)))\n",
    "print(max(np.var(arr1,axis=1)))\n",
    "print(min(np.std(arr1,axis=0)))\n",
    "print(max(np.std(arr1,axis=1)))"
   ]
  },
  {
   "cell_type": "code",
   "execution_count": 28,
   "metadata": {},
   "outputs": [],
   "source": [
    "#//min=np.mean(arr1,axis=1)#min"
   ]
  },
  {
   "cell_type": "code",
   "execution_count": 29,
   "metadata": {},
   "outputs": [
    {
     "name": "stdout",
     "output_type": "stream",
     "text": [
      "[['MSD' '50' '42' '22' '78']\n",
      " ['Kholi' '95' '8' '65' '43']\n",
      " ['Rohit' '9' '100' '7' '101']\n",
      " ['Rahul' '27' '3' '11' '31']\n",
      " ['Dhawan' '24' '20' '36' '27']]\n",
      "\n",
      " the ball matrix \n",
      " [['50' '42' '22' '78']\n",
      " ['95' '8' '65' '43']\n",
      " ['9' '100' '7' '101']\n",
      " ['27' '3' '11' '31']\n",
      " ['24' '20' '36' '27']]\n",
      "\n",
      " the run matrix \n",
      " [['MSD' '54' '60' '10' '65']\n",
      " ['Kholi' '102' '2' '78' '32']\n",
      " ['Rohit' '3' '110' '1' '92']\n",
      " ['Rahul' '56' '6' '12' '42']\n",
      " ['Dhawan' '12' '8' '22' '11']]\n",
      "[[108.         142.85714286  45.45454545  83.33333333]\n",
      " [107.36842105  25.         120.          74.41860465]\n",
      " [ 33.33333333 110.          14.28571429  91.08910891]\n",
      " [207.40740741 200.         109.09090909 135.48387097]\n",
      " [ 50.          40.          61.11111111  40.74074074]]\n",
      "\n",
      " the strike for each player :\n",
      "  [ 94.91125541  81.69675643  62.17703913 162.99554687  47.96296296]\n",
      "\n",
      " player ball faced with strike run rate: \n",
      " [['MSD' '50' '42' '22' '78' '94.91125541125541']\n",
      " ['Kholi' '95' '8' '65' '43' '81.69675642594859']\n",
      " ['Rohit' '9' '100' '7' '101' '62.17703913248468']\n",
      " ['Rahul' '27' '3' '11' '31' '162.99554686651462']\n",
      " ['Dhawan' '24' '20' '36' '27' '47.96296296296296']]\n",
      "\n",
      " final list: \n",
      " [['Rahul' '27' '3' '11' '31' '162.99554686651462']\n",
      " ['MSD' '50' '42' '22' '78' '94.91125541125541']\n",
      " ['Kholi' '95' '8' '65' '43' '81.69675642594859']\n",
      " ['Rohit' '9' '100' '7' '101' '62.17703913248468']\n",
      " ['Dhawan' '24' '20' '36' '27' '47.96296296296296']]\n"
     ]
    }
   ],
   "source": [
    "#21.  Compute the average and strike rate for each player and sort it decending way (seperately for avg and strike rate)\n",
    "balls=np.array([['MSD',50,42,22,78],['Kholi',95,8,65,43],['Rohit',9,100,7,101],['Rahul',27,3,11,31],['Dhawan',24,20,36,27]])\n",
    "run=np.array([['MSD',54,60,10,65],['Kholi',102,2,78,32],['Rohit',3,110,1,92],['Rahul',56,6,12,42],['Dhawan',12,8,22,11]])\n",
    "print(balls)\n",
    "ball=balls[:,1:5]\n",
    "print('\\n the ball matrix \\n',ball)\n",
    "ball1=ball.astype(\"int32\")\n",
    "runs=run[:,1:5]\n",
    "print('\\n the run matrix \\n',run)\n",
    "run1=runs.astype(\"int32\")\n",
    "strike=run1/ball1 *100\n",
    "print(strike)\n",
    "sr=strike.mean(axis=1)\n",
    "print(\"\\n the strike for each player :\\n \",sr)\n",
    "sr1=sr.reshape([5,1])\n",
    "sr1\n",
    "player_sr=np.concatenate([balls,sr1],axis=1)\n",
    "print(\"\\n player ball faced with strike run rate: \\n\",player_sr)\n",
    "ind=sr.argsort()   #ascending\n",
    "ind\n",
    "final_output=player_sr[ind,:][::-1]\n",
    "print(\"\\n final list: \\n\",final_output)"
   ]
  },
  {
   "cell_type": "code",
   "execution_count": 30,
   "metadata": {},
   "outputs": [
    {
     "name": "stdout",
     "output_type": "stream",
     "text": [
      "student passed :  7\n",
      "student failed :  [47 48 39]\n"
     ]
    }
   ],
   "source": [
    "#22. The students mark was recorded in a numpy array: marks = np.array([65,84,47,56,89,98,48,77,80,39]). Cutoff for pass is 50 marks. Write the logic to print the number of students passed and failed.\n",
    "marks = np.array([65,84,47,56,89,98,48,77,80,39])\n",
    "pass_ind=np.where(marks>50)\n",
    "a=marks[marks>50]\n",
    "pass_marks=marks[pass_ind]\n",
    "fail_ind=np.where(marks<50)\n",
    "fail_marks=marks[fail_ind]\n",
    "print('student passed : ',len(pass_marks))\n",
    "print('student failed : ',fail_marks)"
   ]
  },
  {
   "cell_type": "code",
   "execution_count": 31,
   "metadata": {},
   "outputs": [
    {
     "name": "stdout",
     "output_type": "stream",
     "text": [
      "student passed :  7\n",
      "student failed :  3\n"
     ]
    }
   ],
   "source": [
    "#alt...\n",
    "marks = np.array([65,84,47,56,89,98,48,77,80,39])\n",
    "a=marks[marks<50]\n",
    "print('student passed : ',(marks.size)-(a.size))\n",
    "print('student failed : ',a.size)"
   ]
  },
  {
   "cell_type": "code",
   "execution_count": 32,
   "metadata": {},
   "outputs": [
    {
     "name": "stdout",
     "output_type": "stream",
     "text": [
      "\n",
      " Actual Student marks \n",
      " [65 84 47 56 89 98 48 77 80 39]\n",
      "\n",
      " New marks which provides to student marks \n",
      " [ 65 100  52  56 100  98  53  77  80  39]\n",
      "\n",
      " percentage increase in marks \n",
      " 20.0\n"
     ]
    }
   ],
   "source": [
    "#23. The class incharge decided to give a mercy mark of 5 for those who scored between 45 and 49. Also the bonus of 5 marks awarded to the students who scored more than 80. Print all the student marks and compute the increase in the pass percentage of class. Any score more than 100 must be recorded as only 100.\n",
    "new_marks=marks.copy()\n",
    "new_marks\n",
    "mercy_marks=np.where((new_marks>45) & (new_marks<=49))\n",
    "new_marks[mercy_marks]=new_marks[mercy_marks]+5\n",
    "bonus_marks=np.where((new_marks>80) & (new_marks<=95))\n",
    "new_marks[bonus_marks]=new_marks[bonus_marks]+5\n",
    "\n",
    "new_marks1=np.where(new_marks>95)\n",
    "new_marks[bonus_marks]=100\n",
    "\n",
    "print('\\n Actual Student marks \\n', marks)\n",
    "print('\\n New marks which provides to student marks \\n',new_marks)\n",
    "actual_pass_marks=(len(marks[np.where(marks>=50)])/len(marks))*100\n",
    "our_new_marks=(len(new_marks[np.where(new_marks>=50)])/len(new_marks))*100\n",
    "inc_in_percentage=our_new_marks-actual_pass_marks\n",
    "print(\"\\n percentage increase in marks \\n\",inc_in_percentage)"
   ]
  },
  {
   "cell_type": "code",
   "execution_count": 33,
   "metadata": {},
   "outputs": [
    {
     "name": "stdout",
     "output_type": "stream",
     "text": [
      "time taken to complete the computing using list :  63.992977142333984\n",
      "time taken to comlete to computing sing numpy :  0.0\n"
     ]
    }
   ],
   "source": [
    "#24.  Print the time taken for performing the following operation using list and numpy array\n",
    "#(x(i)^2 +8) / y(i), where x and y are real integers from 1 to 60000\n",
    "import time\n",
    "x=range(1,60000)\n",
    "y=range(1,60000)\n",
    "out=[]\n",
    "st=time.time()\n",
    "for i,j in zip(x,y):\n",
    "    out.append((x[i-1]*x[i-1]+8)/y[i-1])\n",
    "print('time taken to complete the computing using list : ', (time.time()-st)*1000)\n",
    "\n",
    "x_arr=np.arange(1,60000)\n",
    "y_arr=np.arange(1,60000)\n",
    "st_t=time.time()\n",
    "out_arr=((x_arr*x_arr)+8)/y_arr\n",
    "print('time taken to comlete to computing sing numpy : ',(time.time()-st_t)*1000)"
   ]
  },
  {
   "cell_type": "code",
   "execution_count": 34,
   "metadata": {},
   "outputs": [
    {
     "name": "stdout",
     "output_type": "stream",
     "text": [
      "Yesterda 2021-09-18\n",
      "Today,today\n",
      "Tomorrow 2021-09-20\n"
     ]
    }
   ],
   "source": [
    "#get dates of yesterday,today and tomorrow\n",
    "yesterday=np.datetime64('today','D')-np.timedelta64(1,'D')\n",
    "print(\"Yesterda\",yesterday)\n",
    "today=np.datetime64('today','D')\n",
    "print(\"Today,today\")\n",
    "tmrrw=np.datetime64('today','D')+np.timedelta64(1,'D')\n",
    "print(\"Tomorrow\",tmrrw)"
   ]
  },
  {
   "cell_type": "code",
   "execution_count": 35,
   "metadata": {},
   "outputs": [
    {
     "name": "stdout",
     "output_type": "stream",
     "text": [
      "September,2021\n",
      "['2021-09-01' '2021-09-02' '2021-09-03' '2021-09-04' '2021-09-05'\n",
      " '2021-09-06' '2021-09-07' '2021-09-08' '2021-09-09' '2021-09-10'\n",
      " '2021-09-11' '2021-09-12' '2021-09-13' '2021-09-14' '2021-09-15'\n",
      " '2021-09-16' '2021-09-17' '2021-09-18' '2021-09-19' '2021-09-20'\n",
      " '2021-09-21' '2021-09-22' '2021-09-23' '2021-09-24' '2021-09-25'\n",
      " '2021-09-26' '2021-09-27' '2021-09-28' '2021-09-29' '2021-09-30']\n"
     ]
    }
   ],
   "source": [
    "#display all dates of any particular month\n",
    "print(\"September,2021\")\n",
    "print(np.arange('2021-09','2021-10',dtype='datetime64[D]'))"
   ]
  },
  {
   "cell_type": "code",
   "execution_count": 36,
   "metadata": {},
   "outputs": [
    {
     "name": "stdout",
     "output_type": "stream",
     "text": [
      "Number of days, February, 2022: \n",
      "28 days\n",
      "Number of days, February, 2021: \n",
      "28 days\n",
      "Number of days, February, 2020: \n",
      "29 days\n"
     ]
    }
   ],
   "source": [
    "#wap to get dates of yesterday,today,tomorrow\n",
    "print(\"Number of days, February, 2022: \")\n",
    "print(np.datetime64('2022-03-01') - np.datetime64('2022-02-01'))\n",
    "print(\"Number of days, February, 2021: \")\n",
    "print(np.datetime64('2021-03-01') - np.datetime64('2021-02-01'))\n",
    "print(\"Number of days, February, 2020: \")\n",
    "print(np.datetime64('2020-03-01') - np.datetime64('2020-02-01'))"
   ]
  },
  {
   "cell_type": "code",
   "execution_count": 37,
   "metadata": {},
   "outputs": [
    {
     "name": "stdout",
     "output_type": "stream",
     "text": [
      "Original Array:\n",
      "  [(1+1j), (2+5j), (1-2j)]\n",
      "Sorted the complex array using real in first part and impaginary part in second: [1.-2.j 1.+1.j 2.+5.j]\n"
     ]
    }
   ],
   "source": [
    "#sorting and searching of a given complex array using numpy \n",
    "complex_num=[1+1j,2+5j,1-2j]\n",
    "print(\"Original Array:\\n \",complex_num)\n",
    "print(\"Sorted the complex array using real in first part and impaginary part in second:\",np.sort_complex(complex_num))"
   ]
  },
  {
   "cell_type": "code",
   "execution_count": 38,
   "metadata": {},
   "outputs": [
    {
     "name": "stdout",
     "output_type": "stream",
     "text": [
      "Indices are:  [2 0 1]\n"
     ]
    }
   ],
   "source": [
    "#getting indices of the sorted elements\n",
    "i=np.argsort(complex_num)\n",
    "print(\"Indices are: \",i)"
   ]
  },
  {
   "cell_type": "code",
   "execution_count": null,
   "metadata": {},
   "outputs": [],
   "source": []
  }
 ],
 "metadata": {
  "kernelspec": {
   "display_name": "Python 3",
   "language": "python",
   "name": "python3"
  },
  "language_info": {
   "codemirror_mode": {
    "name": "ipython",
    "version": 3
   },
   "file_extension": ".py",
   "mimetype": "text/x-python",
   "name": "python",
   "nbconvert_exporter": "python",
   "pygments_lexer": "ipython3",
   "version": "3.8.5"
  }
 },
 "nbformat": 4,
 "nbformat_minor": 4
}
